{
 "cells": [
  {
   "cell_type": "code",
   "execution_count": null,
   "metadata": {},
   "outputs": [],
   "source": [
    "import numpy as np\n",
    "import matplotlib.pyplot as plt\n",
    "from ipywidgets import interact\n",
    "import ipywidgets as widgets\n",
    "\n",
    "argument = '/Spin_dir_fin.txt'\n",
    "\n",
    "\n",
    "def angle_to_vector(angles):\n",
    "    return np.array([np.cos(angles), np.sin(angles)])\n",
    "\n",
    "\n",
    "def quiver_plot(temperature):\n",
    "\n",
    "    file_path = f\"/Users/mirimi/Desktop/hihi/KTH/XY-model/Output/T_5.0\" + argument \n",
    "\n",
    "    with open(file_path, 'r') as file:\n",
    "            angles = [float(line.strip()) for line in file.readlines()]\n",
    "\n",
    "    grid_size = (16, 16)\n",
    "\n",
    "    vectors = angle_to_vector(angles)\n",
    "\n",
    "    x, y = np.meshgrid(np.arange(grid_size[0]), np.arange(grid_size[1]))\n",
    "    \n",
    "    plt.quiver(x, y, vectors[0], vectors[1], angles, pivot='middle') #cmap='hsv'\n",
    "    #plt.colorbar()\n",
    "    plt.show()\n",
    "\n",
    "\n",
    "\n",
    "    x = np.linspace(0, 1, 10)\n",
    "    y = np.linspace(0, 1, 10)\n",
    "    u = np.random.rand(10, 10)\n",
    "    v = np.random.rand(10, 10)\n",
    "\n",
    "    plt.quiver(x, y, u, v)\n",
    "    plt.title(f'Quiver Plot at Temperature: {temperature}')\n",
    "    plt.show()\n",
    "\n",
    "\n",
    "\n",
    "\n",
    "# Create an interactive slider widget\n",
    "temperature_slider = widgets.FloatSlider(value=0.0, min=0.0, max=100.0, step=1.0)\n",
    "\n",
    "# Use the `interact` function to link the slider to the quiver plot function\n",
    "interact(quiver_plot, temperature=temperature_slider)\n"
   ]
  }
 ],
 "metadata": {
  "kernelspec": {
   "display_name": "Python 3",
   "language": "python",
   "name": "python3"
  },
  "language_info": {
   "name": "python",
   "version": "3.11.5"
  },
  "orig_nbformat": 4
 },
 "nbformat": 4,
 "nbformat_minor": 2
}
